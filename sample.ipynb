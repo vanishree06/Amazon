{
  "nbformat": 4,
  "nbformat_minor": 0,
  "metadata": {
    "colab": {
      "name": "sample.ipynb",
      "provenance": [],
      "authorship_tag": "ABX9TyMyHdzWSiSV7jIzYyCidk5P",
      "include_colab_link": true
    },
    "kernelspec": {
      "name": "python3",
      "display_name": "Python 3"
    },
    "language_info": {
      "name": "python"
    }
  },
  "cells": [
    {
      "cell_type": "markdown",
      "metadata": {
        "id": "view-in-github",
        "colab_type": "text"
      },
      "source": [
        "<a href=\"https://colab.research.google.com/github/vanishree06/Amazon/blob/main/sample.ipynb\" target=\"_parent\"><img src=\"https://colab.research.google.com/assets/colab-badge.svg\" alt=\"Open In Colab\"/></a>"
      ]
    },
    {
      "cell_type": "code",
      "source": [
        "!git clone https://github.com/DeepmindsAI/Handwritten-Text-Recognition.git"
      ],
      "metadata": {
        "colab": {
          "base_uri": "https://localhost:8080/"
        },
        "id": "ZmhK3ilVEV46",
        "outputId": "2cb5b0a1-773a-4399-ec25-940d64503753"
      },
      "execution_count": 8,
      "outputs": [
        {
          "output_type": "stream",
          "name": "stdout",
          "text": [
            "Cloning into 'Handwritten-Text-Recognition'...\n",
            "remote: Enumerating objects: 2531, done.\u001b[K\n",
            "remote: Counting objects: 100% (2531/2531), done.\u001b[K\n",
            "remote: Compressing objects: 100% (2519/2519), done.\u001b[K\n",
            "remote: Total 2531 (delta 14), reused 2486 (delta 8), pack-reused 0\u001b[K\n",
            "Receiving objects: 100% (2531/2531), 59.96 MiB | 22.30 MiB/s, done.\n",
            "Resolving deltas: 100% (14/14), done.\n"
          ]
        }
      ]
    }
  ]
}